{
 "cells": [
  {
   "attachments": {},
   "cell_type": "markdown",
   "id": "dec72ba4-8098-4b80-b5df-082282730b22",
   "metadata": {},
   "source": [
    "# Grid5k cluster installation"
   ]
  },
  {
   "cell_type": "code",
   "execution_count": null,
   "id": "4463f60c-2533-45be-9f95-349855f04c19",
   "metadata": {},
   "outputs": [],
   "source": [
    "%run ../common/common.ipynb"
   ]
  },
  {
   "attachments": {},
   "cell_type": "markdown",
   "id": "4083b6eb-f5b5-4336-91da-b5b22652aeb4",
   "metadata": {},
   "source": [
    "## Prerequisites\n",
    "\n",
    "Launch this notebook using a Grid5k's Jupyter notebook on the frontend (https://intranet.grid5000.fr/notebooks).\n",
    "\n",
    "- usage Terraform Grid5000 K8S (Rancher) provider https://github.com/pmorillon/terraform-grid5000-k8s-cluster using:\n",
    "    - Terraform Grid5000 provider https://registry.terraform.io/providers/pmorillon/grid5000/0.0.7\n",
    "    - Rancher rke / https://registry.terraform.io/providers/rancher/rke/1.2.1\n",
    "\n",
    "- terraform plan\n",
    "- terraform untaint module.k8s_cluster.grid5000_job.k8s\n",
    "- terraform apply"
   ]
  },
  {
   "attachments": {},
   "cell_type": "markdown",
   "id": "6e5239b6-5adf-49cf-ae94-05df3b161501",
   "metadata": {},
   "source": [
    "## Cluster configuration\n",
    "\n",
    "Set `main.tf` with wanted values (number of nodes, walltime etc.)."
   ]
  },
  {
   "cell_type": "code",
   "execution_count": null,
   "id": "470632fc-942c-45d7-9a2f-730586e91fb7",
   "metadata": {},
   "outputs": [],
   "source": [
    "%%bash\n",
    "export PATH=$HOME/tools:$PATH\n",
    "terraform workspace select default \n",
    "rm terraform.tfstate # remove previous state\n",
    "terraform init\n",
    "terraform apply -auto-approve"
   ]
  },
  {
   "cell_type": "code",
   "execution_count": null,
   "id": "7c871f04-d47d-4833-aaaa-754f6eff139b",
   "metadata": {},
   "outputs": [],
   "source": [
    "%%bash\n",
    "mkdir -p $HOME/.kube\n",
    "cp kube_config_cluster.yml $HOME/.kube/config\n",
    "export PATH=$HOME/tools:$PATH\n",
    "#export KUBECONFIG=$PWD/kube_config_cluster.yml\n",
    "oarstat -u \n",
    "# use oardel to remove the instances\n",
    "kubectl version\n",
    "kubectl get nodes"
   ]
  },
  {
   "attachments": {},
   "cell_type": "markdown",
   "id": "93724019-fe72-4cdf-865a-f1ec72132479",
   "metadata": {},
   "source": [
    "## Label nodes"
   ]
  },
  {
   "cell_type": "code",
   "execution_count": null,
   "id": "c3e66038-fa0a-49b3-bda2-11f9e70f2371",
   "metadata": {},
   "outputs": [],
   "source": [
    "init_label_nodes(jobmanagers_qty=1, kafka_qty=1, minio_qty=1)\n",
    "#init_label_nodes(jobmanagers_qty=8, kafka_qty=16)"
   ]
  },
  {
   "cell_type": "code",
   "execution_count": null,
   "id": "d86dd1e4-70be-4f1c-9cad-a88cd72d8a50",
   "metadata": {},
   "outputs": [],
   "source": [
    "(manager_node, jobmanager_node, taskmanager_nodes, kafka_node, minio_node) = get_label_nodes()"
   ]
  },
  {
   "cell_type": "code",
   "execution_count": null,
   "id": "d64a7adf-953b-4685-b96b-7c4448c84270",
   "metadata": {},
   "outputs": [],
   "source": [
    "run_command('../common/common_modules.sh')"
   ]
  },
  {
   "cell_type": "code",
   "execution_count": null,
   "id": "1a318bd3-05d2-4d32-974f-d7dd7d6262ea",
   "metadata": {},
   "outputs": [],
   "source": [
    "print(\"Access to Grafana: http://{}:30300\".format(manager_node))\n",
    "print(\"Access to Prometheus: http://{}:30090\".format(manager_node))\n",
    "print(\"Job manager address: {}\".format(jobmanager_node))\n",
    "print(\"Task manager addresses: {}\".format(taskmanager_nodes))\n",
    "print(\"Kafka address: {}\".format(kafka_node))\n",
    "print(\"Minio addresses: {}\".format(minio_node))"
   ]
  }
 ],
 "metadata": {
  "kernelspec": {
   "display_name": "Python 3 (ipykernel)",
   "language": "python",
   "name": "python3"
  },
  "language_info": {
   "codemirror_mode": {
    "name": "ipython",
    "version": 3
   },
   "file_extension": ".py",
   "mimetype": "text/x-python",
   "name": "python",
   "nbconvert_exporter": "python",
   "pygments_lexer": "ipython3",
   "version": "3.10.4"
  },
  "vscode": {
   "interpreter": {
    "hash": "31f2aee4e71d21fbe5cf8b01ff0e069b9275f58929596ceb00d14d90e3e16cd6"
   }
  },
  "widgets": {
   "application/vnd.jupyter.widget-state+json": {
    "state": {},
    "version_major": 2,
    "version_minor": 0
   }
  }
 },
 "nbformat": 4,
 "nbformat_minor": 5
}
